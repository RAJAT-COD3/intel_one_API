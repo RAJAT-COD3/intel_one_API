{
 "cells": [
  {
   "cell_type": "code",
   "execution_count": null,
   "metadata": {},
   "outputs": [],
   "source": [
    "import pandas as pd\n",
    "import numpy as np\n",
    "\n",
    "import sklearn\n",
    "from sklearnex import patch_sklearn\n",
    "patch_sklearn()\n",
    "\n",
    "from sklearn.ensemble import RandomForestClassifier\n",
    "from sklearn.model_selection import train_test_split\n",
    "from sklearn.metrics import classification_report\n",
    "from imblearn.over_sampling import ADASYN\n",
    "import joblib"
   ]
  },
  {
   "cell_type": "code",
   "execution_count": null,
   "metadata": {},
   "outputs": [],
   "source": [
    "df= pd.read_csv(\"dataset.csv\")"
   ]
  },
  {
   "cell_type": "code",
   "execution_count": null,
   "metadata": {},
   "outputs": [],
   "source": [
    "def preprocess_and_train_model(df):\n",
    """"\n,"
    "Input: Raw dataset\n,"
    "\n",
    "Output: Trained random classifier model\n",
    """"\n",
    "    # Data preprocessing\n",
    "    df.drop('index', axis=1, inplace=True)\n",
    "    df.columns = df.columns.str.lower()\n",
    "    \n",
    "    colour_mapping = {'Colorless': 1, 'Faint Yellow': 3, 'Light Yellow': 4, 'Near Colorless': 2, 'Yellow': 5, np.nan: np.nan}\n",
    "    source_mapping = {np.nan: np.nan, 'Lake': 8, 'River': 7, 'Ground': 2, 'Spring': 5, 'Stream': 1, 'Aquifer': 3,\n",
    "                      'Reservoir': 4, 'Well': 6}\n",
    "    month_mapping = {'January': 3, 'November': 11, 'April': 8, 'June': 9, 'March': 1, 'September': 10, 'May': 5,\n",
    "                     'July': 2, 'August': 4, 'October': 7, 'December': 6, 'February': 12, np.nan: np.nan}\n",
    "    \n",
    "    df['color'] = df['color'].replace(colour_mapping).astype('Int64')\n",
    "    df['source'] = df['source'].replace(source_mapping).astype('Int64')\n",
    "    df['month'] = df['month'].replace(month_mapping).astype('Int64')\n",
    "    \n",
    "    columns_to_fill_mean = ['iron', 'lead', 'turbidity', 'fluoride', 'manganese']\n",
    "    columns_to_fill_median = ['nitrate', 'chloride', 'zinc', 'copper', 'odor', 'chlorine', 'total dissolved solids',\n",
    "                              'water temperature', 'ph', 'conductivity']\n",
    "    \n",
    "    df[columns_to_fill_mean] = df[columns_to_fill_mean].fillna(df[columns_to_fill_mean].mean())\n",
    "    df[columns_to_fill_median] = df[columns_to_fill_median].fillna(df[columns_to_fill_median].median())\n",
    "    \n",
    "    df.dropna(subset=['color'], inplace=True)\n",
    "    df.drop(['month', 'day', 'time of day', 'conductivity', 'air temperature', 'source'], axis=1, inplace=True)\n",
    "    \n",
    "    # Resampling\n",
    "    x = df.drop(columns=[\"target\"])\n",
    "    y = df[\"target\"]\n",
    "    adasyn = ADASYN(random_state=42)\n",
    "    x_resampled, y_resampled = adasyn.fit_resample(x, y)\n",
    "    df = pd.DataFrame(data=x_resampled, columns=x.columns)\n",
    "    df['target'] = y_resampled\n",
    "    df.dropna(inplace=True)\n",
    "    \n",
    "    # Training the model\n",
    "    x = df.drop(\"target\", axis=1).to_numpy()\n",
    "    y = df[\"target\"].to_numpy()\n",
    "    x_train, x_test, y_train, y_test = train_test_split(x, y, test_size=0.2, random_state=42)\n",
    "    \n",
    "    rf = RandomForestClassifier(n_estimators=60, random_state=42)\n",
    "    rf.fit(x_train, y_train)\n",
    "    \n",
    "    # Evaluating the model\n",
    "    y_pred_rf = rf.predict(x_test)\n",
    "    print(\"Classification Report:\")\n",
    "    print(classification_report(y_test, y_pred_rf))\n",
    "    \n",
    "    # Saving the model\n",
    "    joblib.dump(rf, 'rf_model.pkl')\n",
    "    \n",
    "    return rf"
   ]
  }
 ],
 "metadata": {
  "language_info": {
   "name": "python"
  },
  "orig_nbformat": 4
 },
 "nbformat": 4,
 "nbformat_minor": 2
}
